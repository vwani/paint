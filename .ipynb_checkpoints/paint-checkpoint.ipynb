{
 "cells": [
  {
   "cell_type": "code",
   "execution_count": 1,
   "id": "b2d52e68-fac6-4e18-9797-fe34bd1fab55",
   "metadata": {},
   "outputs": [
    {
     "name": "stdout",
     "output_type": "stream",
     "text": [
      "pygame 2.5.2 (SDL 2.28.3, Python 3.12.1)\n",
      "Hello from the pygame community. https://www.pygame.org/contribute.html\n"
     ]
    }
   ],
   "source": [
    "import pygame"
   ]
  },
  {
   "cell_type": "code",
   "execution_count": 2,
   "id": "2632b5a8-f9ac-41a2-9a86-9a68972d9fe4",
   "metadata": {},
   "outputs": [],
   "source": [
    "def fillgaps(color, start, end, radius):\n",
    "    xaxis = end[0] - start[0]\n",
    "    yaxis = end[1] - start[1]\n",
    "    dist = max(abs(xaxis), abs(yaxis))\n",
    "    for i in range(dist):\n",
    "        x = int(start[0] + ((i/dist) * xaxis))\n",
    "        y = int(start[1] + ((i/dist) * yaxis))\n",
    "        pygame.draw.circle(screen, color, (x,y), radius)"
   ]
  },
  {
   "cell_type": "code",
   "execution_count": 11,
   "id": "2be0b782-a2b1-4100-95a7-b7dfdeaf5e74",
   "metadata": {},
   "outputs": [],
   "source": [
    "def fillfunc(color, coords):\n",
    "    if coords[1] > 499:\n",
    "        return\n",
    "    replaceColor = screen.get_at(coords)"
   ]
  },
  {
   "cell_type": "code",
   "execution_count": 15,
   "id": "30c5d58d-208c-4639-99de-e6e6a982e786",
   "metadata": {},
   "outputs": [],
   "source": [
    "class Button:\n",
    "\n",
    "    def __init__(self, x, y, height, width, color = None, image = None):\n",
    "        if image:\n",
    "            self.color = None\n",
    "            self.image = pygame.transform.scale(image, (height, width))\n",
    "            self.button = self.image.get_rect()\n",
    "            self.button.topleft = (x,y)\n",
    "        else:\n",
    "            self.color = color\n",
    "            self.button = pygame.Rect(x, y, height, width)        \n",
    "        \n",
    "    def draw(self): \n",
    "        if self.color:\n",
    "            pygame.draw.rect(screen, self.color, self.button)\n",
    "        else:\n",
    "            screen.blit(self.image, (self.button.x, self.button.y))"
   ]
  },
  {
   "cell_type": "code",
   "execution_count": null,
   "id": "d2aaa870-3c3b-4634-80d0-98812c4b4292",
   "metadata": {},
   "outputs": [],
   "source": [
    "class Slider:\n",
    "\n",
    "    def __init__():\n",
    "        pass"
   ]
  },
  {
   "cell_type": "code",
   "execution_count": 17,
   "id": "454f63cd-d179-44cb-946d-2a0807e5d0b7",
   "metadata": {},
   "outputs": [],
   "source": [
    "pygame.init()\n",
    "\n",
    "screen = pygame.display.set_mode((600, 600))\n",
    "menu = pygame.Surface((600,100))\n",
    "menu.fill((234, 234, 234))\n",
    "screen.fill('white')\n",
    "pygame.display.update()\n",
    "\n",
    "trash = pygame.image.load('paint\\\\images\\\\trash.png').convert_alpha()\n",
    "eraser = pygame.image.load('paint\\\\images\\\\eraser.png').convert_alpha()\n",
    "pencil = pygame.image.load('paint\\\\images\\\\pencil.png').convert_alpha()\n",
    "bucket = pygame.image.load('paint\\\\images\\\\bucket.png').convert_alpha()\n",
    "\n",
    "running = True\n",
    "radius, color = 1, 'black'\n",
    "mode = 'draw'\n",
    "\n",
    "red = Button(10, 510, 20 ,20, 'red')\n",
    "green = Button(35, 510, 20 ,20, 'green')\n",
    "blue = Button(60, 510, 20, 20, 'blue')\n",
    "black = Button(85, 510, 20, 20, 'black')\n",
    "clear = Button(110, 510, 20, 20, image = trash)\n",
    "erase = Button(140, 510, 20, 20, image = eraser)\n",
    "draw = Button(170, 510, 20, 20, image = pencil)\n",
    "fill = Button(200, 510, 20, 20, image = bucket)\n",
    "\n",
    "while running:\n",
    "\n",
    "    pygame.Surface.blit(screen, menu, (0,500))\n",
    "    for button in [red, green, blue, black, clear, erase, draw, fill]:\n",
    "        button.draw()\n",
    "    pygame.display.update()\n",
    "    \n",
    "    event = pygame.event.wait()\n",
    "    \n",
    "    if event.type == pygame.QUIT: running = False\n",
    "        \n",
    "    if event.type == pygame.MOUSEBUTTONDOWN:\n",
    "\n",
    "        if draw.button.collidepoint(event.pos):\n",
    "            mode = 'draw'\n",
    "        elif erase.button.collidepoint(event.pos):\n",
    "            mode = 'erase'\n",
    "        elif fill.button.collidepoint(event.pos):\n",
    "            mode = 'fill'\n",
    "            \n",
    "        elif red.button.collidepoint(event.pos):\n",
    "            color = 'red'\n",
    "        elif blue.button.collidepoint(event.pos):\n",
    "            color = 'blue'\n",
    "        elif green.button.collidepoint(event.pos):\n",
    "            color = 'green'\n",
    "        elif black.button.collidepoint(event.pos):\n",
    "            color = 'black'\n",
    "\n",
    "        elif clear.button.collidepoint(event.pos):\n",
    "            screen.fill('white')\n",
    "\n",
    "        else:\n",
    "            \n",
    "            if mode == 'fill':\n",
    "                fillfunc(color, event.pos)\n",
    "                \n",
    "            else:\n",
    "                start = event.pos\n",
    "                if mode == 'erase':\n",
    "                    pygame.draw.circle(screen, 'white', start, radius)\n",
    "                else:\n",
    "                    pygame.draw.circle(screen, color, start, radius)\n",
    "                \n",
    "                while pygame.event.wait().type != pygame.MOUSEBUTTONUP:\n",
    "                    last = pygame.mouse.get_pos()\n",
    "                    if mode == 'erase':\n",
    "                        fillgaps('white', start, last, radius)\n",
    "                    else:\n",
    "                        fillgaps(color, start, last, radius)\n",
    "                    start = last\n",
    "                    \n",
    "                    pygame.Surface.blit(screen, menu, (0,500))\n",
    "                    for button in [red, green, blue, black, clear, erase, draw, fill]:\n",
    "                        button.draw()\n",
    "                    pygame.display.update()\n",
    "                \n",
    "    if event.type == pygame.KEYDOWN: \n",
    "        \n",
    "        #change radius\n",
    "        if event.key == pygame.K_UP and radius < 19: radius += 1\n",
    "        elif event.key == pygame.K_DOWN and radius > 1: radius -= 1\n",
    "            \n",
    "pygame.quit()"
   ]
  },
  {
   "cell_type": "code",
   "execution_count": null,
   "id": "c8a04d1e-5e9b-4089-8cca-3d781871cf6f",
   "metadata": {},
   "outputs": [],
   "source": []
  },
  {
   "cell_type": "code",
   "execution_count": 17,
   "id": "2976acf7-821e-4a1a-80e7-62d5c220c19b",
   "metadata": {},
   "outputs": [],
   "source": [
    "#<a href=\"https://www.flaticon.com/free-icons/delete\" title=\"delete icons\">Delete icons created by Kiranshastry - Flaticon</a>\n",
    "#<a href=\"https://www.freepik.com/search?format=search&last_filter=query&last_value=eraser&query=eraser&type=icon\">Icon by Grand Iconic</a>\n",
    "#<a href=\"https://www.flaticon.com/free-icons/edit-tools\" title=\"edit tools icons\">Edit tools icons created by Baianat - Flaticon</a>\n",
    "#<a href=\"https://www.flaticon.com/free-icons/paint\" title=\"paint icons\">Paint icons created by Freepik - Flaticon</a>"
   ]
  }
 ],
 "metadata": {
  "kernelspec": {
   "display_name": "Python 3 (ipykernel)",
   "language": "python",
   "name": "python3"
  },
  "language_info": {
   "codemirror_mode": {
    "name": "ipython",
    "version": 3
   },
   "file_extension": ".py",
   "mimetype": "text/x-python",
   "name": "python",
   "nbconvert_exporter": "python",
   "pygments_lexer": "ipython3",
   "version": "3.12.1"
  }
 },
 "nbformat": 4,
 "nbformat_minor": 5
}
